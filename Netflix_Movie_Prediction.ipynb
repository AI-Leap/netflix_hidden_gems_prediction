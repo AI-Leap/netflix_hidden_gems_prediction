{
 "cells": [
  {
   "cell_type": "markdown",
   "metadata": {},
   "source": [
    "# Which kind of Movie will get Higher Rating"
   ]
  },
  {
   "cell_type": "markdown",
   "metadata": {},
   "source": [
    "Netflix has a lot of quality movies and series with different genres under different categories. Netflixers have to search through Netflix to know which contents is better quality. That is uneasy and a bit time consuming. Hidden gem addresses such problem."
   ]
  },
  {
   "cell_type": "markdown",
   "metadata": {},
   "source": [
    "The business idea behind this problem is to know which type of movie can get higher ranting and popular among viewers. Technically, it is about the prediction of Hidden Gem Score of Netflix Movies. The predicted score will support for those whose business is related with movie like movie production industries."
   ]
  },
  {
   "cell_type": "markdown",
   "metadata": {},
   "source": [
    "In this notebook, there will be 3 different implementation for business understanding.\n",
    "1. Which genre of movies or series are the most showed on Netflix from year 2015 to 2021.\n",
    "2. How the movie published trend on Netflix changed.\n",
    "3. The Prediction of Hidden Gem Score"
   ]
  },
  {
   "cell_type": "code",
   "execution_count": 1,
   "metadata": {},
   "outputs": [],
   "source": [
    "import pandas as pd\n",
    "import numpy as np\n",
    "from collections import Counter\n",
    "import nltk\n",
    "import matplotlib.pyplot as plt \n",
    "import seaborn as sns\n",
    "\n",
    "from sklearn.model_selection import train_test_split\n",
    "from sklearn.ensemble import RandomForestRegressor\n",
    "from sklearn.metrics import mean_absolute_error"
   ]
  },
  {
   "cell_type": "markdown",
   "metadata": {},
   "source": [
    "### Dataset"
   ]
  },
  {
   "cell_type": "markdown",
   "metadata": {},
   "source": [
    "The dataset is downloaded from Kaggle. The dataset contains the information about movie and its hidden gem score. This dataset combines the data sourced by Netflix, Rotten Tomatoes, IMBD, posters, box office, trailers on YouTube, and more."
   ]
  },
  {
   "cell_type": "code",
   "execution_count": 2,
   "metadata": {},
   "outputs": [],
   "source": [
    "dataset = pd.read_csv('./netflix-rotten-tomatoes-metacritic-imdb.csv')"
   ]
  },
  {
   "cell_type": "markdown",
   "metadata": {},
   "source": [
    "Take a closer look to data to understand dataset nature and its information."
   ]
  },
  {
   "cell_type": "code",
   "execution_count": 3,
   "metadata": {},
   "outputs": [
    {
     "data": {
      "text/html": [
       "<div>\n",
       "<style scoped>\n",
       "    .dataframe tbody tr th:only-of-type {\n",
       "        vertical-align: middle;\n",
       "    }\n",
       "\n",
       "    .dataframe tbody tr th {\n",
       "        vertical-align: top;\n",
       "    }\n",
       "\n",
       "    .dataframe thead th {\n",
       "        text-align: right;\n",
       "    }\n",
       "</style>\n",
       "<table border=\"1\" class=\"dataframe\">\n",
       "  <thead>\n",
       "    <tr style=\"text-align: right;\">\n",
       "      <th></th>\n",
       "      <th>Title</th>\n",
       "      <th>Genre</th>\n",
       "      <th>Tags</th>\n",
       "      <th>Languages</th>\n",
       "      <th>Series or Movie</th>\n",
       "      <th>Hidden Gem Score</th>\n",
       "      <th>Country Availability</th>\n",
       "      <th>Runtime</th>\n",
       "      <th>Director</th>\n",
       "      <th>Writer</th>\n",
       "      <th>...</th>\n",
       "      <th>Netflix Release Date</th>\n",
       "      <th>Production House</th>\n",
       "      <th>Netflix Link</th>\n",
       "      <th>IMDb Link</th>\n",
       "      <th>Summary</th>\n",
       "      <th>IMDb Votes</th>\n",
       "      <th>Image</th>\n",
       "      <th>Poster</th>\n",
       "      <th>TMDb Trailer</th>\n",
       "      <th>Trailer Site</th>\n",
       "    </tr>\n",
       "  </thead>\n",
       "  <tbody>\n",
       "    <tr>\n",
       "      <th>0</th>\n",
       "      <td>Lets Fight Ghost</td>\n",
       "      <td>Crime, Drama, Fantasy, Horror, Romance</td>\n",
       "      <td>Comedy Programmes,Romantic TV Comedies,Horror ...</td>\n",
       "      <td>Swedish, Spanish</td>\n",
       "      <td>Series</td>\n",
       "      <td>4.3</td>\n",
       "      <td>Thailand</td>\n",
       "      <td>&lt; 30 minutes</td>\n",
       "      <td>Tomas Alfredson</td>\n",
       "      <td>John Ajvide Lindqvist</td>\n",
       "      <td>...</td>\n",
       "      <td>04/03/2021</td>\n",
       "      <td>Canal+, Sandrew Metronome</td>\n",
       "      <td>https://www.netflix.com/watch/81415947</td>\n",
       "      <td>https://www.imdb.com/title/tt1139797</td>\n",
       "      <td>A med student with a supernatural gift tries t...</td>\n",
       "      <td>205926.0</td>\n",
       "      <td>https://occ-0-4708-64.1.nflxso.net/dnm/api/v6/...</td>\n",
       "      <td>https://m.media-amazon.com/images/M/MV5BOWM4NT...</td>\n",
       "      <td>NaN</td>\n",
       "      <td>NaN</td>\n",
       "    </tr>\n",
       "    <tr>\n",
       "      <th>1</th>\n",
       "      <td>HOW TO BUILD A GIRL</td>\n",
       "      <td>Comedy</td>\n",
       "      <td>Dramas,Comedies,Films Based on Books,British</td>\n",
       "      <td>English</td>\n",
       "      <td>Movie</td>\n",
       "      <td>7.0</td>\n",
       "      <td>Canada</td>\n",
       "      <td>1-2 hour</td>\n",
       "      <td>Coky Giedroyc</td>\n",
       "      <td>Caitlin Moran</td>\n",
       "      <td>...</td>\n",
       "      <td>04/03/2021</td>\n",
       "      <td>Film 4, Monumental Pictures, Lionsgate</td>\n",
       "      <td>https://www.netflix.com/watch/81041267</td>\n",
       "      <td>https://www.imdb.com/title/tt4193072</td>\n",
       "      <td>When nerdy Johanna moves to London, things get...</td>\n",
       "      <td>2838.0</td>\n",
       "      <td>https://occ-0-1081-999.1.nflxso.net/dnm/api/v6...</td>\n",
       "      <td>https://m.media-amazon.com/images/M/MV5BZGUyN2...</td>\n",
       "      <td>https://www.youtube.com/watch?v=eIbcxPy4okQ</td>\n",
       "      <td>YouTube</td>\n",
       "    </tr>\n",
       "    <tr>\n",
       "      <th>2</th>\n",
       "      <td>Centigrade</td>\n",
       "      <td>Drama, Thriller</td>\n",
       "      <td>Thrillers</td>\n",
       "      <td>English</td>\n",
       "      <td>Movie</td>\n",
       "      <td>6.4</td>\n",
       "      <td>Canada</td>\n",
       "      <td>1-2 hour</td>\n",
       "      <td>Brendan Walsh</td>\n",
       "      <td>Brendan Walsh, Daley Nixon</td>\n",
       "      <td>...</td>\n",
       "      <td>04/03/2021</td>\n",
       "      <td>NaN</td>\n",
       "      <td>https://www.netflix.com/watch/81305978</td>\n",
       "      <td>https://www.imdb.com/title/tt8945942</td>\n",
       "      <td>Trapped in a frozen car during a blizzard, a p...</td>\n",
       "      <td>1720.0</td>\n",
       "      <td>https://occ-0-1081-999.1.nflxso.net/dnm/api/v6...</td>\n",
       "      <td>https://m.media-amazon.com/images/M/MV5BODM2MD...</td>\n",
       "      <td>https://www.youtube.com/watch?v=0RvV7TNUlkQ</td>\n",
       "      <td>YouTube</td>\n",
       "    </tr>\n",
       "    <tr>\n",
       "      <th>3</th>\n",
       "      <td>ANNE+</td>\n",
       "      <td>Drama</td>\n",
       "      <td>TV Dramas,Romantic TV Dramas,Dutch TV Shows</td>\n",
       "      <td>Turkish</td>\n",
       "      <td>Series</td>\n",
       "      <td>7.7</td>\n",
       "      <td>Belgium,Netherlands</td>\n",
       "      <td>&lt; 30 minutes</td>\n",
       "      <td>NaN</td>\n",
       "      <td>NaN</td>\n",
       "      <td>...</td>\n",
       "      <td>04/03/2021</td>\n",
       "      <td>NaN</td>\n",
       "      <td>https://www.netflix.com/watch/81336456</td>\n",
       "      <td>https://www.imdb.com/title/tt6132758</td>\n",
       "      <td>Upon moving into a new place, a 20-something r...</td>\n",
       "      <td>1147.0</td>\n",
       "      <td>https://occ-0-1489-1490.1.nflxso.net/dnm/api/v...</td>\n",
       "      <td>https://m.media-amazon.com/images/M/MV5BNWRkMz...</td>\n",
       "      <td>NaN</td>\n",
       "      <td>NaN</td>\n",
       "    </tr>\n",
       "    <tr>\n",
       "      <th>4</th>\n",
       "      <td>Moxie</td>\n",
       "      <td>Animation, Short, Drama</td>\n",
       "      <td>Social Issue Dramas,Teen Movies,Dramas,Comedie...</td>\n",
       "      <td>English</td>\n",
       "      <td>Movie</td>\n",
       "      <td>8.1</td>\n",
       "      <td>Lithuania,Poland,France,Iceland,Italy,Spain,Gr...</td>\n",
       "      <td>1-2 hour</td>\n",
       "      <td>Stephen Irwin</td>\n",
       "      <td>NaN</td>\n",
       "      <td>...</td>\n",
       "      <td>04/03/2021</td>\n",
       "      <td>NaN</td>\n",
       "      <td>https://www.netflix.com/watch/81078393</td>\n",
       "      <td>https://www.imdb.com/title/tt2023611</td>\n",
       "      <td>Inspired by her moms rebellious past and a con...</td>\n",
       "      <td>63.0</td>\n",
       "      <td>https://occ-0-4039-1500.1.nflxso.net/dnm/api/v...</td>\n",
       "      <td>https://m.media-amazon.com/images/M/MV5BODYyNW...</td>\n",
       "      <td>NaN</td>\n",
       "      <td>NaN</td>\n",
       "    </tr>\n",
       "  </tbody>\n",
       "</table>\n",
       "<p>5 rows × 29 columns</p>\n",
       "</div>"
      ],
      "text/plain": [
       "                 Title                                   Genre  \\\n",
       "0     Lets Fight Ghost  Crime, Drama, Fantasy, Horror, Romance   \n",
       "1  HOW TO BUILD A GIRL                                  Comedy   \n",
       "2           Centigrade                         Drama, Thriller   \n",
       "3                ANNE+                                   Drama   \n",
       "4                Moxie                 Animation, Short, Drama   \n",
       "\n",
       "                                                Tags         Languages  \\\n",
       "0  Comedy Programmes,Romantic TV Comedies,Horror ...  Swedish, Spanish   \n",
       "1       Dramas,Comedies,Films Based on Books,British           English   \n",
       "2                                          Thrillers           English   \n",
       "3        TV Dramas,Romantic TV Dramas,Dutch TV Shows           Turkish   \n",
       "4  Social Issue Dramas,Teen Movies,Dramas,Comedie...           English   \n",
       "\n",
       "  Series or Movie  Hidden Gem Score  \\\n",
       "0          Series               4.3   \n",
       "1           Movie               7.0   \n",
       "2           Movie               6.4   \n",
       "3          Series               7.7   \n",
       "4           Movie               8.1   \n",
       "\n",
       "                                Country Availability       Runtime  \\\n",
       "0                                           Thailand  < 30 minutes   \n",
       "1                                             Canada      1-2 hour   \n",
       "2                                             Canada      1-2 hour   \n",
       "3                                Belgium,Netherlands  < 30 minutes   \n",
       "4  Lithuania,Poland,France,Iceland,Italy,Spain,Gr...      1-2 hour   \n",
       "\n",
       "          Director                      Writer  ... Netflix Release Date  \\\n",
       "0  Tomas Alfredson       John Ajvide Lindqvist  ...           04/03/2021   \n",
       "1    Coky Giedroyc               Caitlin Moran  ...           04/03/2021   \n",
       "2    Brendan Walsh  Brendan Walsh, Daley Nixon  ...           04/03/2021   \n",
       "3              NaN                         NaN  ...           04/03/2021   \n",
       "4    Stephen Irwin                         NaN  ...           04/03/2021   \n",
       "\n",
       "                         Production House  \\\n",
       "0               Canal+, Sandrew Metronome   \n",
       "1  Film 4, Monumental Pictures, Lionsgate   \n",
       "2                                     NaN   \n",
       "3                                     NaN   \n",
       "4                                     NaN   \n",
       "\n",
       "                             Netflix Link  \\\n",
       "0  https://www.netflix.com/watch/81415947   \n",
       "1  https://www.netflix.com/watch/81041267   \n",
       "2  https://www.netflix.com/watch/81305978   \n",
       "3  https://www.netflix.com/watch/81336456   \n",
       "4  https://www.netflix.com/watch/81078393   \n",
       "\n",
       "                              IMDb Link  \\\n",
       "0  https://www.imdb.com/title/tt1139797   \n",
       "1  https://www.imdb.com/title/tt4193072   \n",
       "2  https://www.imdb.com/title/tt8945942   \n",
       "3  https://www.imdb.com/title/tt6132758   \n",
       "4  https://www.imdb.com/title/tt2023611   \n",
       "\n",
       "                                             Summary  IMDb Votes  \\\n",
       "0  A med student with a supernatural gift tries t...    205926.0   \n",
       "1  When nerdy Johanna moves to London, things get...      2838.0   \n",
       "2  Trapped in a frozen car during a blizzard, a p...      1720.0   \n",
       "3  Upon moving into a new place, a 20-something r...      1147.0   \n",
       "4  Inspired by her moms rebellious past and a con...        63.0   \n",
       "\n",
       "                                               Image  \\\n",
       "0  https://occ-0-4708-64.1.nflxso.net/dnm/api/v6/...   \n",
       "1  https://occ-0-1081-999.1.nflxso.net/dnm/api/v6...   \n",
       "2  https://occ-0-1081-999.1.nflxso.net/dnm/api/v6...   \n",
       "3  https://occ-0-1489-1490.1.nflxso.net/dnm/api/v...   \n",
       "4  https://occ-0-4039-1500.1.nflxso.net/dnm/api/v...   \n",
       "\n",
       "                                              Poster  \\\n",
       "0  https://m.media-amazon.com/images/M/MV5BOWM4NT...   \n",
       "1  https://m.media-amazon.com/images/M/MV5BZGUyN2...   \n",
       "2  https://m.media-amazon.com/images/M/MV5BODM2MD...   \n",
       "3  https://m.media-amazon.com/images/M/MV5BNWRkMz...   \n",
       "4  https://m.media-amazon.com/images/M/MV5BODYyNW...   \n",
       "\n",
       "                                  TMDb Trailer Trailer Site  \n",
       "0                                          NaN          NaN  \n",
       "1  https://www.youtube.com/watch?v=eIbcxPy4okQ      YouTube  \n",
       "2  https://www.youtube.com/watch?v=0RvV7TNUlkQ      YouTube  \n",
       "3                                          NaN          NaN  \n",
       "4                                          NaN          NaN  \n",
       "\n",
       "[5 rows x 29 columns]"
      ]
     },
     "execution_count": 3,
     "metadata": {},
     "output_type": "execute_result"
    }
   ],
   "source": [
    "dataset.head()"
   ]
  },
  {
   "cell_type": "markdown",
   "metadata": {},
   "source": [
    "The dataset has over 15,000 data records corresponding to 29 features."
   ]
  },
  {
   "cell_type": "code",
   "execution_count": 4,
   "metadata": {},
   "outputs": [
    {
     "data": {
      "text/plain": [
       "(15480, 29)"
      ]
     },
     "execution_count": 4,
     "metadata": {},
     "output_type": "execute_result"
    }
   ],
   "source": [
    "dataset.shape"
   ]
  },
  {
   "cell_type": "markdown",
   "metadata": {},
   "source": [
    "Before performing analysis on dataset, it is required to choose the feature columns which required for my case scenario. \n",
    "\n",
    "14 out of 29 columns are selected as feature in this scenario. Title, Genre, Tags, English, Series or Movie, Hidden Gem Score, Run Time, IMDb Score, Rotten Tomatoes Score, Metacritic Score, Awards Received, Awards Nominated For, Boxoffice, Netflix Release Data and IMDb Votes."
   ]
  },
  {
   "cell_type": "code",
   "execution_count": 5,
   "metadata": {},
   "outputs": [],
   "source": [
    "#Feature columns in dataset\n",
    "dataset = dataset[['Title','Genre', 'Languages', 'Series or Movie',\n",
    "       'Hidden Gem Score', 'Runtime', 'IMDb Score',\n",
    "       'Rotten Tomatoes Score', 'Metacritic Score', 'Awards Received',\n",
    "       'Awards Nominated For', 'Boxoffice', 'Netflix Release Date', 'IMDb Votes']]"
   ]
  },
  {
   "cell_type": "markdown",
   "metadata": {},
   "source": [
    "### Understanding a bit more about data"
   ]
  },
  {
   "cell_type": "markdown",
   "metadata": {},
   "source": [
    "Data transformation is also required to perform to some features like Boxoffice (string to int)."
   ]
  },
  {
   "cell_type": "code",
   "execution_count": 6,
   "metadata": {},
   "outputs": [],
   "source": [
    "dataset['Boxoffice'] = dataset['Boxoffice'].str.replace('$','')\n",
    "dataset['Boxoffice'] = dataset['Boxoffice'].str.replace(',','')"
   ]
  },
  {
   "cell_type": "code",
   "execution_count": 7,
   "metadata": {},
   "outputs": [
    {
     "data": {
      "text/plain": [
       "0        2122065.0\n",
       "1          70632.0\n",
       "2          16263.0\n",
       "3              NaN\n",
       "4              NaN\n",
       "           ...    \n",
       "15475          NaN\n",
       "15476          NaN\n",
       "15477          NaN\n",
       "15478          NaN\n",
       "15479          NaN\n",
       "Name: Boxoffice, Length: 15480, dtype: float64"
      ]
     },
     "execution_count": 7,
     "metadata": {},
     "output_type": "execute_result"
    }
   ],
   "source": [
    "pd.to_numeric(dataset['Boxoffice'])"
   ]
  },
  {
   "cell_type": "markdown",
   "metadata": {},
   "source": [
    "Find any missing value in the dataset and handle the missing value. If the missing value finds necessary, fill the missing value with some values, mean and standard deviation. If it finds unimportant, remove them before it leads to outliers."
   ]
  },
  {
   "cell_type": "code",
   "execution_count": 8,
   "metadata": {},
   "outputs": [
    {
     "data": {
      "text/plain": [
       "Title                        0\n",
       "Genre                     1710\n",
       "Languages                 1935\n",
       "Series or Movie              0\n",
       "Hidden Gem Score          2101\n",
       "Runtime                      0\n",
       "IMDb Score                2099\n",
       "Rotten Tomatoes Score     9098\n",
       "Metacritic Score         11144\n",
       "Awards Received           9405\n",
       "Awards Nominated For      7819\n",
       "Boxoffice                11473\n",
       "Netflix Release Date         0\n",
       "IMDb Votes                2101\n",
       "dtype: int64"
      ]
     },
     "execution_count": 8,
     "metadata": {},
     "output_type": "execute_result"
    }
   ],
   "source": [
    "#checking the missing value.\n",
    "dataset.isnull().sum()"
   ]
  },
  {
   "cell_type": "code",
   "execution_count": 9,
   "metadata": {},
   "outputs": [],
   "source": [
    "#handle the missing value\n",
    "dataset = dataset.dropna(subset=['Hidden Gem Score'])\n",
    "\n",
    "dataset['Rotten Tomatoes Score'] = dataset['Rotten Tomatoes Score'].fillna(0)\n",
    "dataset['Metacritic Score'] = dataset['Rotten Tomatoes Score'].fillna(0)\n",
    "dataset['Awards Received'] = dataset['Awards Received'].fillna(0)\n",
    "dataset['Awards Nominated For'] = dataset['Awards Nominated For'].fillna(0)\n",
    "dataset['Boxoffice'] = dataset['Boxoffice'].fillna(0)\n",
    "\n",
    "dataset = dataset.dropna(subset=['Genre','Languages'])"
   ]
  },
  {
   "cell_type": "code",
   "execution_count": 10,
   "metadata": {
    "scrolled": true
   },
   "outputs": [
    {
     "data": {
      "text/plain": [
       "Title                    0\n",
       "Genre                    0\n",
       "Languages                0\n",
       "Series or Movie          0\n",
       "Hidden Gem Score         0\n",
       "Runtime                  0\n",
       "IMDb Score               0\n",
       "Rotten Tomatoes Score    0\n",
       "Metacritic Score         0\n",
       "Awards Received          0\n",
       "Awards Nominated For     0\n",
       "Boxoffice                0\n",
       "Netflix Release Date     0\n",
       "IMDb Votes               0\n",
       "dtype: int64"
      ]
     },
     "execution_count": 10,
     "metadata": {},
     "output_type": "execute_result"
    }
   ],
   "source": [
    "dataset.isnull().sum()"
   ]
  },
  {
   "cell_type": "markdown",
   "metadata": {},
   "source": [
    "There is no missing value now."
   ]
  },
  {
   "cell_type": "markdown",
   "metadata": {},
   "source": [
    "## Business Understanding\n",
    "### 1. Which genre of movies or series are the most showed on Netflix"
   ]
  },
  {
   "cell_type": "markdown",
   "metadata": {},
   "source": [
    "There are a lot of genre of movies and series published on Netflix. This session will answer which genre of movie or series are released the most from 2015 to 2021."
   ]
  },
  {
   "cell_type": "code",
   "execution_count": 11,
   "metadata": {},
   "outputs": [],
   "source": [
    "def count_genre():\n",
    "    genre = []\n",
    "    genre.append(', '.join(dataset['Genre']).split(', '))\n",
    "    return Counter(genre[0])\n",
    "\n",
    "genre_dict = count_genre()"
   ]
  },
  {
   "cell_type": "code",
   "execution_count": 12,
   "metadata": {},
   "outputs": [],
   "source": [
    "# create dataframe for frequency graph\n",
    "genre_dict = nltk.FreqDist(genre_dict) \n",
    "\n",
    "genre_df = pd.DataFrame({'Genre': list(genre_dict.keys()), \n",
    "'Count': list(genre_dict.values())})"
   ]
  },
  {
   "cell_type": "code",
   "execution_count": 13,
   "metadata": {},
   "outputs": [
    {
     "data": {
      "image/png": "[encoded data removed]",
      "text/plain": [
       "<Figure size 864x1080 with 1 Axes>"
      ]
     },
     "metadata": {
      "needs_background": "light"
     },
     "output_type": "display_data"
    }
   ],
   "source": [
    "#plout the graph\n",
    "g = genre_df.nlargest(columns=\"Count\", n = 50) \n",
    "plt.figure(figsize=(12,15)) \n",
    "ax = sns.barplot(data=g, x= \"Count\", y = \"Genre\") \n",
    "ax.set(ylabel = 'Genre') \n",
    "plt.show()"
   ]
  },
  {
   "cell_type": "markdown",
   "metadata": {},
   "source": [
    "According to the plot, it is assumed that 5 most showed movie genre are <b> Drama, Comedy, Action, Thriller, and Romance. </b> "
   ]
  },
  {
   "cell_type": "markdown",
   "metadata": {},
   "source": [
    "### 2. How movie published trend on Netflix changed"
   ]
  },
  {
   "cell_type": "markdown",
   "metadata": {},
   "source": [
    "A lot of movies or series are released every year. In the session, we are going to see how the trend changes from 2015 to 2021. Based on this result, we can consider in which year, what will be the trend."
   ]
  },
  {
   "cell_type": "code",
   "execution_count": 14,
   "metadata": {},
   "outputs": [],
   "source": [
    "#get Year from Netflix release date\n",
    "dataset['Year'] = pd.DatetimeIndex(dataset['Netflix Release Date']).year\n",
    "dataset = dataset.drop(['Netflix Release Date'], axis = 1)"
   ]
  },
  {
   "cell_type": "code",
   "execution_count": 15,
   "metadata": {},
   "outputs": [],
   "source": [
    "# Drama Trend between 2015 and 2021\n",
    "drama_count_y2015 = (dataset[(dataset['Genre'].str.contains('Drama')) & (dataset['Year'] == 2015)])\n",
    "drama_count_y2016 = (dataset[(dataset['Genre'].str.contains('Drama')) & (dataset['Year'] == 2016)])\n",
    "drama_count_y2017 = (dataset[(dataset['Genre'].str.contains('Drama')) & (dataset['Year'] == 2017)])\n",
    "drama_count_y2018 = (dataset[(dataset['Genre'].str.contains('Drama')) & (dataset['Year'] == 2018)])\n",
    "drama_count_y2019 = (dataset[(dataset['Genre'].str.contains('Drama')) & (dataset['Year'] == 2019)])\n",
    "drama_count_y2020 = (dataset[(dataset['Genre'].str.contains('Drama')) & (dataset['Year'] == 2020)])\n",
    "drama_count_y2021 = (dataset[(dataset['Genre'].str.contains('Drama')) & (dataset['Year'] == 2021)])\n",
    "\n",
    "dramas = []\n",
    "dramas.append(drama_count_y2015['Genre'].count())\n",
    "dramas.append(drama_count_y2016['Genre'].count())\n",
    "dramas.append(drama_count_y2017['Genre'].count())\n",
    "dramas.append(drama_count_y2018['Genre'].count())\n",
    "dramas.append(drama_count_y2019['Genre'].count())\n",
    "dramas.append(drama_count_y2020['Genre'].count())\n",
    "dramas.append(drama_count_y2021['Genre'].count())"
   ]
  },
  {
   "cell_type": "code",
   "execution_count": 16,
   "metadata": {},
   "outputs": [],
   "source": [
    "# Action Trend between 2015 and 2021\n",
    "drama_count_y2015 = (dataset[(dataset['Genre'].str.contains('Action')) & (dataset['Year'] == 2015)])\n",
    "drama_count_y2016 = (dataset[(dataset['Genre'].str.contains('Action')) & (dataset['Year'] == 2016)])\n",
    "drama_count_y2017 = (dataset[(dataset['Genre'].str.contains('Action')) & (dataset['Year'] == 2017)])\n",
    "drama_count_y2018 = (dataset[(dataset['Genre'].str.contains('Action')) & (dataset['Year'] == 2018)])\n",
    "drama_count_y2019 = (dataset[(dataset['Genre'].str.contains('Action')) & (dataset['Year'] == 2019)])\n",
    "drama_count_y2020 = (dataset[(dataset['Genre'].str.contains('Action')) & (dataset['Year'] == 2020)])\n",
    "drama_count_y2021 = (dataset[(dataset['Genre'].str.contains('Action')) & (dataset['Year'] == 2021)])\n",
    "\n",
    "actions = []\n",
    "actions.append(drama_count_y2015['Genre'].count())\n",
    "actions.append(drama_count_y2016['Genre'].count())\n",
    "actions.append(drama_count_y2017['Genre'].count())\n",
    "actions.append(drama_count_y2018['Genre'].count())\n",
    "actions.append(drama_count_y2019['Genre'].count())\n",
    "actions.append(drama_count_y2020['Genre'].count())\n",
    "actions.append(drama_count_y2021['Genre'].count())"
   ]
  },
  {
   "cell_type": "code",
   "execution_count": 17,
   "metadata": {},
   "outputs": [],
   "source": [
    "# Comedy Trend between 2015 and 2021\n",
    "drama_count_y2015 = (dataset[(dataset['Genre'].str.contains('Comedy')) & (dataset['Year'] == 2015)])\n",
    "drama_count_y2016 = (dataset[(dataset['Genre'].str.contains('Comedy')) & (dataset['Year'] == 2016)])\n",
    "drama_count_y2017 = (dataset[(dataset['Genre'].str.contains('Comedy')) & (dataset['Year'] == 2017)])\n",
    "drama_count_y2018 = (dataset[(dataset['Genre'].str.contains('Comedy')) & (dataset['Year'] == 2018)])\n",
    "drama_count_y2019 = (dataset[(dataset['Genre'].str.contains('Comedy')) & (dataset['Year'] == 2019)])\n",
    "drama_count_y2020 = (dataset[(dataset['Genre'].str.contains('Comedy')) & (dataset['Year'] == 2020)])\n",
    "drama_count_y2021 = (dataset[(dataset['Genre'].str.contains('Comedy')) & (dataset['Year'] == 2021)])\n",
    "\n",
    "comedies = []\n",
    "comedies.append(drama_count_y2015['Genre'].count())\n",
    "comedies.append(drama_count_y2016['Genre'].count())\n",
    "comedies.append(drama_count_y2017['Genre'].count())\n",
    "comedies.append(drama_count_y2018['Genre'].count())\n",
    "comedies.append(drama_count_y2019['Genre'].count())\n",
    "comedies.append(drama_count_y2020['Genre'].count())\n",
    "comedies.append(drama_count_y2021['Genre'].count())"
   ]
  },
  {
   "cell_type": "code",
   "execution_count": 18,
   "metadata": {},
   "outputs": [],
   "source": [
    "# Thriller Trend between 2015 and 2021\n",
    "drama_count_y2015 = (dataset[(dataset['Genre'].str.contains('Thriller')) & (dataset['Year'] == 2015)])\n",
    "drama_count_y2016 = (dataset[(dataset['Genre'].str.contains('Thriller')) & (dataset['Year'] == 2016)])\n",
    "drama_count_y2017 = (dataset[(dataset['Genre'].str.contains('Thriller')) & (dataset['Year'] == 2017)])\n",
    "drama_count_y2018 = (dataset[(dataset['Genre'].str.contains('Thriller')) & (dataset['Year'] == 2018)])\n",
    "drama_count_y2019 = (dataset[(dataset['Genre'].str.contains('Thriller')) & (dataset['Year'] == 2019)])\n",
    "drama_count_y2020 = (dataset[(dataset['Genre'].str.contains('Thriller')) & (dataset['Year'] == 2020)])\n",
    "drama_count_y2021 = (dataset[(dataset['Genre'].str.contains('Thriller')) & (dataset['Year'] == 2021)])\n",
    "\n",
    "thrillers = []\n",
    "thrillers.append(drama_count_y2015['Genre'].count())\n",
    "thrillers.append(drama_count_y2016['Genre'].count())\n",
    "thrillers.append(drama_count_y2017['Genre'].count())\n",
    "thrillers.append(drama_count_y2018['Genre'].count())\n",
    "thrillers.append(drama_count_y2019['Genre'].count())\n",
    "thrillers.append(drama_count_y2020['Genre'].count())\n",
    "thrillers.append(drama_count_y2021['Genre'].count())"
   ]
  },
  {
   "cell_type": "code",
   "execution_count": 19,
   "metadata": {},
   "outputs": [],
   "source": [
    "year_gem_score_df = pd.DataFrame()\n",
    "\n",
    "#years (2015 to 2021)\n",
    "years = sorted(dataset['Year'].unique())\n",
    "year_gem_score_df['Year'] = years\n",
    "\n",
    "#movie count for drama, action, comedy and thriller\n",
    "year_gem_score_df['Drama Movie Count'] = dramas\n",
    "year_gem_score_df['Action Movie Count'] = actions\n",
    "year_gem_score_df['Comedy Movie Count'] = comedies\n",
    "year_gem_score_df['Thriller Movie Count'] = thrillers"
   ]
  },
  {
   "cell_type": "code",
   "execution_count": 20,
   "metadata": {},
   "outputs": [
    {
     "data": {
      "text/html": [
       "<div>\n",
       "<style scoped>\n",
       "    .dataframe tbody tr th:only-of-type {\n",
       "        vertical-align: middle;\n",
       "    }\n",
       "\n",
       "    .dataframe tbody tr th {\n",
       "        vertical-align: top;\n",
       "    }\n",
       "\n",
       "    .dataframe thead th {\n",
       "        text-align: right;\n",
       "    }\n",
       "</style>\n",
       "<table border=\"1\" class=\"dataframe\">\n",
       "  <thead>\n",
       "    <tr style=\"text-align: right;\">\n",
       "      <th></th>\n",
       "      <th>Year</th>\n",
       "      <th>Drama Movie Count</th>\n",
       "      <th>Action Movie Count</th>\n",
       "      <th>Comedy Movie Count</th>\n",
       "      <th>Thriller Movie Count</th>\n",
       "    </tr>\n",
       "  </thead>\n",
       "  <tbody>\n",
       "    <tr>\n",
       "      <th>0</th>\n",
       "      <td>2015</td>\n",
       "      <td>1471</td>\n",
       "      <td>907</td>\n",
       "      <td>1272</td>\n",
       "      <td>802</td>\n",
       "    </tr>\n",
       "    <tr>\n",
       "      <th>1</th>\n",
       "      <td>2016</td>\n",
       "      <td>603</td>\n",
       "      <td>313</td>\n",
       "      <td>456</td>\n",
       "      <td>298</td>\n",
       "    </tr>\n",
       "    <tr>\n",
       "      <th>2</th>\n",
       "      <td>2017</td>\n",
       "      <td>682</td>\n",
       "      <td>315</td>\n",
       "      <td>531</td>\n",
       "      <td>291</td>\n",
       "    </tr>\n",
       "    <tr>\n",
       "      <th>3</th>\n",
       "      <td>2018</td>\n",
       "      <td>812</td>\n",
       "      <td>383</td>\n",
       "      <td>753</td>\n",
       "      <td>359</td>\n",
       "    </tr>\n",
       "    <tr>\n",
       "      <th>4</th>\n",
       "      <td>2019</td>\n",
       "      <td>975</td>\n",
       "      <td>363</td>\n",
       "      <td>813</td>\n",
       "      <td>368</td>\n",
       "    </tr>\n",
       "    <tr>\n",
       "      <th>5</th>\n",
       "      <td>2020</td>\n",
       "      <td>1371</td>\n",
       "      <td>408</td>\n",
       "      <td>941</td>\n",
       "      <td>495</td>\n",
       "    </tr>\n",
       "    <tr>\n",
       "      <th>6</th>\n",
       "      <td>2021</td>\n",
       "      <td>249</td>\n",
       "      <td>71</td>\n",
       "      <td>154</td>\n",
       "      <td>89</td>\n",
       "    </tr>\n",
       "  </tbody>\n",
       "</table>\n",
       "</div>"
      ],
      "text/plain": [
       "   Year  Drama Movie Count  Action Movie Count  Comedy Movie Count  \\\n",
       "0  2015               1471                 907                1272   \n",
       "1  2016                603                 313                 456   \n",
       "2  2017                682                 315                 531   \n",
       "3  2018                812                 383                 753   \n",
       "4  2019                975                 363                 813   \n",
       "5  2020               1371                 408                 941   \n",
       "6  2021                249                  71                 154   \n",
       "\n",
       "   Thriller Movie Count  \n",
       "0                   802  \n",
       "1                   298  \n",
       "2                   291  \n",
       "3                   359  \n",
       "4                   368  \n",
       "5                   495  \n",
       "6                    89  "
      ]
     },
     "execution_count": 20,
     "metadata": {},
     "output_type": "execute_result"
    }
   ],
   "source": [
    "#a new dataframe of movie count by years\n",
    "year_gem_score_df"
   ]
  },
  {
   "cell_type": "code",
   "execution_count": 21,
   "metadata": {},
   "outputs": [
    {
     "data": {
      "text/plain": [
       "<matplotlib.axes._subplots.AxesSubplot at 0x7fbdfc8a63a0>"
      ]
     },
     "execution_count": 21,
     "metadata": {},
     "output_type": "execute_result"
    },
    {
     "data": {
      "image/png": "[encoded data removed]",
      "text/plain": [
       "<Figure size 432x288 with 1 Axes>"
      ]
     },
     "metadata": {
      "needs_background": "light"
     },
     "output_type": "display_data"
    }
   ],
   "source": [
    "year_gem_score_df.plot.line(x='Year')"
   ]
  },
  {
   "cell_type": "markdown",
   "metadata": {},
   "source": [
    "According to the plot, we can clearly see that movie published on Netflix has similar trend, but in 2016 and 2019, the movie published quantity has less compared with the other years. Other than that, from 2019, thriller movies have more chance to published on Netflix than action movies."
   ]
  },
  {
   "cell_type": "markdown",
   "metadata": {},
   "source": [
    "## Prediction of Hidden Gem Score"
   ]
  },
  {
   "cell_type": "markdown",
   "metadata": {},
   "source": [
    "The prediction of hidden gem score in a given movie helps for further movie production. The movie industry can decide whether the movie about to produce can get a higher rating or not."
   ]
  },
  {
   "cell_type": "markdown",
   "metadata": {},
   "source": [
    "For the first step, we need to do the one-hot encoding for expression of the categorical data like Genre, Runtime, Series or Movie, and Language."
   ]
  },
  {
   "cell_type": "code",
   "execution_count": 22,
   "metadata": {},
   "outputs": [
    {
     "name": "stdout",
     "output_type": "stream",
     "text": [
      "Action\n",
      "Adult\n",
      "Adventure\n",
      "Animation\n",
      "Biography\n",
      "Comedy\n",
      "Crime\n",
      "Documentary\n",
      "Drama\n",
      "Family\n",
      "Fantasy\n",
      "Film-Noir\n",
      "Game-Show\n",
      "History\n",
      "Horror\n",
      "Music\n",
      "Musical\n",
      "Mystery\n",
      "News\n",
      "Reality-TV\n",
      "Romance\n",
      "Sci-Fi\n",
      "Short\n",
      "Sport\n",
      "Talk-Show\n",
      "Thriller\n",
      "War\n",
      "Western\n"
     ]
    }
   ],
   "source": [
    "#create dummies data for Genre\n",
    "def one_hot_encoding_genre():\n",
    "    genres = np.unique(', '.join(dataset['Genre']).split(', '))\n",
    "    ### Drop 'NA'\n",
    "    genres = np.delete(genres, np.where(genres == 'NA'))\n",
    "    for genre in genres:\n",
    "        print(genre)\n",
    "        dataset[genre] = dataset['Genre'].str.contains(genre).astype('int')\n",
    "        \n",
    "one_hot_encoding_genre()\n",
    "dataset.drop('Genre', axis=1, inplace=True)"
   ]
  },
  {
   "cell_type": "code",
   "execution_count": 23,
   "metadata": {},
   "outputs": [],
   "source": [
    "#create dummies data for Runtime\n",
    "runtime_dummies = pd.get_dummies(dataset['Runtime'])\n",
    "dataset = dataset.join(runtime_dummies)\n",
    "dataset.drop('Runtime', axis=1, inplace=True)"
   ]
  },
  {
   "cell_type": "code",
   "execution_count": 24,
   "metadata": {},
   "outputs": [],
   "source": [
    "#create dummies data for Series or Movie\n",
    "type_dummies = pd.get_dummies(dataset['Series or Movie'])\n",
    "dataset = dataset.join(type_dummies)\n",
    "dataset.drop('Series or Movie', axis=1, inplace=True)"
   ]
  },
  {
   "cell_type": "code",
   "execution_count": 25,
   "metadata": {},
   "outputs": [
    {
     "name": "stdout",
     "output_type": "stream",
     "text": [
      " Ancient (to 1453)\n",
      " Old\n",
      "Aboriginal\n",
      "Acholi\n",
      "Afrikaans\n",
      "Akan\n",
      "Albanian\n",
      "Algonquin\n",
      "American Sign Language\n",
      "Amharic\n",
      "Apache languages\n",
      "Arabic\n",
      "Aragonese\n"
     ]
    },
    {
     "name": "stderr",
     "output_type": "stream",
     "text": [
      "/opt/anaconda3/lib/python3.8/site-packages/pandas/core/strings.py:1954: UserWarning: This pattern has match groups. To actually get the groups, use str.extract.\n",
      "  return func(self, *args, **kwargs)\n"
     ]
    },
    {
     "name": "stdout",
     "output_type": "stream",
     "text": [
      "Aramaic\n",
      "Armenian\n",
      "Aromanian\n",
      "Assamese\n",
      "Awadhi\n",
      "Azerbaijani\n",
      "Bable\n",
      "Basque\n",
      "Belarusian\n",
      "Bengali\n",
      "Berber languages\n",
      "Bhojpuri\n",
      "Bosnian\n",
      "Brazilian Sign Language\n",
      "Breton\n",
      "British Sign Language\n",
      "Bulgarian\n",
      "Burmese\n",
      "Cantonese\n",
      "Catalan\n",
      "Central American Indian languages\n",
      "Chechen\n",
      "Cheyenne\n",
      "Chinese\n",
      "Cornish\n",
      "Cree\n",
      "Croatian\n",
      "Czech\n",
      "Danish\n",
      "Dari\n",
      "Dinka\n",
      "Dutch\n",
      "East-Greenlandic\n",
      "Egyptian (Ancient)\n",
      "English\n",
      "Esperanto\n",
      "Estonian\n",
      "Faroese\n",
      "Filipino\n",
      "Finnish\n",
      "Flemish\n",
      "French\n",
      "French Sign Language\n",
      "Fulah\n",
      "Gallegan\n",
      "Georgian\n",
      "German\n",
      "Greek\n",
      "Greenlandic\n",
      "Gujarati\n",
      "Haitian\n",
      "Hakka\n",
      "Hausa\n",
      "Hawaiian\n",
      "Hebrew\n",
      "Hindi\n",
      "Hmong\n",
      "Hokkien\n",
      "Hungarian\n",
      "Ibo\n",
      "Icelandic\n",
      "Indonesian\n",
      "Inuktitut\n",
      "Irish\n",
      "Italian\n",
      "Japanese\n",
      "Japanese Sign Language\n",
      "Kannada\n",
      "Kazakh\n",
      "Khmer\n",
      "Kikuyu\n",
      "Kinyarwanda\n",
      "Klingon\n",
      "Korean\n",
      "Korean Sign Language\n",
      "Kriolu\n",
      "Kurdish\n",
      "Lao\n",
      "Latin\n",
      "Latvian\n",
      "Lingala\n",
      "Lithuanian\n",
      "Luxembourgish\n",
      "Malay\n",
      "Malayalam\n",
      "Malinka\n",
      "Maltese\n",
      "Mandarin\n",
      "Manipuri\n",
      "Maori\n",
      "Mapudungun\n",
      "Marathi\n",
      "Maya\n",
      "Mende\n",
      "Min Nan\n",
      "Mixtec\n",
      "Mohawk\n",
      "Mongolian\n",
      "Nahuatl\n",
      "Nama\n",
      "Navajo\n",
      "Neapolitan\n",
      "Nepali\n",
      "None\n",
      "Norse\n",
      "North American Indian\n",
      "Norwegian\n",
      "Nyanja\n",
      "Occitan\n",
      "Old English\n",
      "Papiamento\n",
      "Parsee\n",
      "Pawnee\n",
      "Persian\n",
      "Polish\n",
      "Polynesian\n",
      "Portuguese\n",
      "Punjabi\n",
      "Pushto\n",
      "Quechua\n",
      "Quenya\n",
      "Romanian\n",
      "Romany\n",
      "Russian\n",
      "Saami\n",
      "Sanskrit\n",
      "Scanian\n",
      "Scots\n",
      "Scottish Gaelic\n",
      "Serbian\n",
      "Serbo-Croatian\n",
      "Shanghainese\n",
      "Shoshoni\n",
      "Sicilian\n",
      "Sign Languages\n",
      "Sindarin\n",
      "Sinhalese\n",
      "Sioux\n",
      "Slovak\n",
      "Slovenian\n",
      "Somali\n",
      "Southern Sotho\n",
      "Spanish\n",
      "Spanish Sign Language\n",
      "Sranan\n",
      "Swahili\n",
      "Swedish\n",
      "Swiss German\n",
      "Syriac\n",
      "Tagalog\n",
      "Tajik\n",
      "Tamil\n",
      "Tarahumara\n",
      "Tatar\n",
      "Telugu\n",
      "Teochew\n",
      "Thai\n",
      "Tibetan\n",
      "Tlingit\n",
      "Tok Pisin\n",
      "Tswana\n",
      "Tulu\n",
      "Tupi\n",
      "Turkish\n",
      "Turkmen\n",
      "Uighur\n",
      "Ukrainian\n",
      "Urdu\n",
      "Uzbek\n",
      "Vietnamese\n",
      "Wayuu\n",
      "Welsh\n",
      "Wolof\n",
      "Xhosa\n",
      "Yiddish\n",
      "Yoruba\n",
      "Zulu\n"
     ]
    }
   ],
   "source": [
    "#create dummies data for Language\n",
    "def one_hot_encoding_language():\n",
    "    languages = np.unique(', '.join(dataset['Languages']).split(', '))\n",
    "    ### Drop 'NA'\n",
    "    languages = np.delete(languages, np.where(languages == 'NA'))\n",
    "    for language in languages:\n",
    "        print(language)\n",
    "        dataset[language] = dataset['Languages'].str.contains(language).astype('int')\n",
    "\n",
    "one_hot_encoding_language()\n",
    "dataset.drop('Languages', axis=1, inplace=True)"
   ]
  },
  {
   "cell_type": "code",
   "execution_count": 26,
   "metadata": {},
   "outputs": [],
   "source": [
    "#drop Title as it is not required for this case\n",
    "dataset.drop('Title', axis=1, inplace=True)"
   ]
  },
  {
   "cell_type": "code",
   "execution_count": 27,
   "metadata": {
    "scrolled": true
   },
   "outputs": [
    {
     "data": {
      "text/html": [
       "<div>\n",
       "<style scoped>\n",
       "    .dataframe tbody tr th:only-of-type {\n",
       "        vertical-align: middle;\n",
       "    }\n",
       "\n",
       "    .dataframe tbody tr th {\n",
       "        vertical-align: top;\n",
       "    }\n",
       "\n",
       "    .dataframe thead th {\n",
       "        text-align: right;\n",
       "    }\n",
       "</style>\n",
       "<table border=\"1\" class=\"dataframe\">\n",
       "  <thead>\n",
       "    <tr style=\"text-align: right;\">\n",
       "      <th></th>\n",
       "      <th>Hidden Gem Score</th>\n",
       "      <th>IMDb Score</th>\n",
       "      <th>Rotten Tomatoes Score</th>\n",
       "      <th>Metacritic Score</th>\n",
       "      <th>Awards Received</th>\n",
       "      <th>Awards Nominated For</th>\n",
       "      <th>Boxoffice</th>\n",
       "      <th>IMDb Votes</th>\n",
       "      <th>Year</th>\n",
       "      <th>Action</th>\n",
       "      <th>...</th>\n",
       "      <th>Urdu</th>\n",
       "      <th>Uzbek</th>\n",
       "      <th>Vietnamese</th>\n",
       "      <th>Wayuu</th>\n",
       "      <th>Welsh</th>\n",
       "      <th>Wolof</th>\n",
       "      <th>Xhosa</th>\n",
       "      <th>Yiddish</th>\n",
       "      <th>Yoruba</th>\n",
       "      <th>Zulu</th>\n",
       "    </tr>\n",
       "  </thead>\n",
       "  <tbody>\n",
       "    <tr>\n",
       "      <th>0</th>\n",
       "      <td>4.3</td>\n",
       "      <td>7.9</td>\n",
       "      <td>98.0</td>\n",
       "      <td>98.0</td>\n",
       "      <td>74.0</td>\n",
       "      <td>57.0</td>\n",
       "      <td>2122065</td>\n",
       "      <td>205926.0</td>\n",
       "      <td>2021</td>\n",
       "      <td>0</td>\n",
       "      <td>...</td>\n",
       "      <td>0</td>\n",
       "      <td>0</td>\n",
       "      <td>0</td>\n",
       "      <td>0</td>\n",
       "      <td>0</td>\n",
       "      <td>0</td>\n",
       "      <td>0</td>\n",
       "      <td>0</td>\n",
       "      <td>0</td>\n",
       "      <td>0</td>\n",
       "    </tr>\n",
       "    <tr>\n",
       "      <th>1</th>\n",
       "      <td>7.0</td>\n",
       "      <td>5.8</td>\n",
       "      <td>79.0</td>\n",
       "      <td>79.0</td>\n",
       "      <td>1.0</td>\n",
       "      <td>0.0</td>\n",
       "      <td>70632</td>\n",
       "      <td>2838.0</td>\n",
       "      <td>2021</td>\n",
       "      <td>0</td>\n",
       "      <td>...</td>\n",
       "      <td>0</td>\n",
       "      <td>0</td>\n",
       "      <td>0</td>\n",
       "      <td>0</td>\n",
       "      <td>0</td>\n",
       "      <td>0</td>\n",
       "      <td>0</td>\n",
       "      <td>0</td>\n",
       "      <td>0</td>\n",
       "      <td>0</td>\n",
       "    </tr>\n",
       "    <tr>\n",
       "      <th>2</th>\n",
       "      <td>6.4</td>\n",
       "      <td>4.3</td>\n",
       "      <td>0.0</td>\n",
       "      <td>0.0</td>\n",
       "      <td>0.0</td>\n",
       "      <td>0.0</td>\n",
       "      <td>16263</td>\n",
       "      <td>1720.0</td>\n",
       "      <td>2021</td>\n",
       "      <td>0</td>\n",
       "      <td>...</td>\n",
       "      <td>0</td>\n",
       "      <td>0</td>\n",
       "      <td>0</td>\n",
       "      <td>0</td>\n",
       "      <td>0</td>\n",
       "      <td>0</td>\n",
       "      <td>0</td>\n",
       "      <td>0</td>\n",
       "      <td>0</td>\n",
       "      <td>0</td>\n",
       "    </tr>\n",
       "    <tr>\n",
       "      <th>3</th>\n",
       "      <td>7.7</td>\n",
       "      <td>6.5</td>\n",
       "      <td>0.0</td>\n",
       "      <td>0.0</td>\n",
       "      <td>1.0</td>\n",
       "      <td>0.0</td>\n",
       "      <td>0</td>\n",
       "      <td>1147.0</td>\n",
       "      <td>2021</td>\n",
       "      <td>0</td>\n",
       "      <td>...</td>\n",
       "      <td>0</td>\n",
       "      <td>0</td>\n",
       "      <td>0</td>\n",
       "      <td>0</td>\n",
       "      <td>0</td>\n",
       "      <td>0</td>\n",
       "      <td>0</td>\n",
       "      <td>0</td>\n",
       "      <td>0</td>\n",
       "      <td>0</td>\n",
       "    </tr>\n",
       "    <tr>\n",
       "      <th>4</th>\n",
       "      <td>8.1</td>\n",
       "      <td>6.3</td>\n",
       "      <td>0.0</td>\n",
       "      <td>0.0</td>\n",
       "      <td>0.0</td>\n",
       "      <td>4.0</td>\n",
       "      <td>0</td>\n",
       "      <td>63.0</td>\n",
       "      <td>2021</td>\n",
       "      <td>0</td>\n",
       "      <td>...</td>\n",
       "      <td>0</td>\n",
       "      <td>0</td>\n",
       "      <td>0</td>\n",
       "      <td>0</td>\n",
       "      <td>0</td>\n",
       "      <td>0</td>\n",
       "      <td>0</td>\n",
       "      <td>0</td>\n",
       "      <td>0</td>\n",
       "      <td>0</td>\n",
       "    </tr>\n",
       "    <tr>\n",
       "      <th>...</th>\n",
       "      <td>...</td>\n",
       "      <td>...</td>\n",
       "      <td>...</td>\n",
       "      <td>...</td>\n",
       "      <td>...</td>\n",
       "      <td>...</td>\n",
       "      <td>...</td>\n",
       "      <td>...</td>\n",
       "      <td>...</td>\n",
       "      <td>...</td>\n",
       "      <td>...</td>\n",
       "      <td>...</td>\n",
       "      <td>...</td>\n",
       "      <td>...</td>\n",
       "      <td>...</td>\n",
       "      <td>...</td>\n",
       "      <td>...</td>\n",
       "      <td>...</td>\n",
       "      <td>...</td>\n",
       "      <td>...</td>\n",
       "      <td>...</td>\n",
       "    </tr>\n",
       "    <tr>\n",
       "      <th>15467</th>\n",
       "      <td>8.6</td>\n",
       "      <td>7.3</td>\n",
       "      <td>0.0</td>\n",
       "      <td>0.0</td>\n",
       "      <td>0.0</td>\n",
       "      <td>0.0</td>\n",
       "      <td>0</td>\n",
       "      <td>14.0</td>\n",
       "      <td>2015</td>\n",
       "      <td>0</td>\n",
       "      <td>...</td>\n",
       "      <td>0</td>\n",
       "      <td>0</td>\n",
       "      <td>0</td>\n",
       "      <td>0</td>\n",
       "      <td>0</td>\n",
       "      <td>0</td>\n",
       "      <td>0</td>\n",
       "      <td>0</td>\n",
       "      <td>0</td>\n",
       "      <td>0</td>\n",
       "    </tr>\n",
       "    <tr>\n",
       "      <th>15473</th>\n",
       "      <td>8.8</td>\n",
       "      <td>7.8</td>\n",
       "      <td>0.0</td>\n",
       "      <td>0.0</td>\n",
       "      <td>0.0</td>\n",
       "      <td>0.0</td>\n",
       "      <td>0</td>\n",
       "      <td>174.0</td>\n",
       "      <td>2015</td>\n",
       "      <td>0</td>\n",
       "      <td>...</td>\n",
       "      <td>0</td>\n",
       "      <td>0</td>\n",
       "      <td>0</td>\n",
       "      <td>0</td>\n",
       "      <td>0</td>\n",
       "      <td>0</td>\n",
       "      <td>0</td>\n",
       "      <td>0</td>\n",
       "      <td>0</td>\n",
       "      <td>0</td>\n",
       "    </tr>\n",
       "    <tr>\n",
       "      <th>15477</th>\n",
       "      <td>8.4</td>\n",
       "      <td>6.8</td>\n",
       "      <td>0.0</td>\n",
       "      <td>0.0</td>\n",
       "      <td>0.0</td>\n",
       "      <td>0.0</td>\n",
       "      <td>0</td>\n",
       "      <td>71.0</td>\n",
       "      <td>2015</td>\n",
       "      <td>0</td>\n",
       "      <td>...</td>\n",
       "      <td>0</td>\n",
       "      <td>0</td>\n",
       "      <td>0</td>\n",
       "      <td>0</td>\n",
       "      <td>0</td>\n",
       "      <td>0</td>\n",
       "      <td>0</td>\n",
       "      <td>0</td>\n",
       "      <td>0</td>\n",
       "      <td>0</td>\n",
       "    </tr>\n",
       "    <tr>\n",
       "      <th>15478</th>\n",
       "      <td>8.2</td>\n",
       "      <td>6.4</td>\n",
       "      <td>0.0</td>\n",
       "      <td>0.0</td>\n",
       "      <td>0.0</td>\n",
       "      <td>0.0</td>\n",
       "      <td>0</td>\n",
       "      <td>82.0</td>\n",
       "      <td>2015</td>\n",
       "      <td>0</td>\n",
       "      <td>...</td>\n",
       "      <td>0</td>\n",
       "      <td>0</td>\n",
       "      <td>0</td>\n",
       "      <td>0</td>\n",
       "      <td>0</td>\n",
       "      <td>0</td>\n",
       "      <td>0</td>\n",
       "      <td>0</td>\n",
       "      <td>0</td>\n",
       "      <td>0</td>\n",
       "    </tr>\n",
       "    <tr>\n",
       "      <th>15479</th>\n",
       "      <td>8.1</td>\n",
       "      <td>6.2</td>\n",
       "      <td>0.0</td>\n",
       "      <td>0.0</td>\n",
       "      <td>0.0</td>\n",
       "      <td>0.0</td>\n",
       "      <td>0</td>\n",
       "      <td>17.0</td>\n",
       "      <td>2015</td>\n",
       "      <td>1</td>\n",
       "      <td>...</td>\n",
       "      <td>0</td>\n",
       "      <td>0</td>\n",
       "      <td>0</td>\n",
       "      <td>0</td>\n",
       "      <td>0</td>\n",
       "      <td>0</td>\n",
       "      <td>0</td>\n",
       "      <td>0</td>\n",
       "      <td>0</td>\n",
       "      <td>0</td>\n",
       "    </tr>\n",
       "  </tbody>\n",
       "</table>\n",
       "<p>13100 rows × 233 columns</p>\n",
       "</div>"
      ],
      "text/plain": [
       "       Hidden Gem Score  IMDb Score  Rotten Tomatoes Score  Metacritic Score  \\\n",
       "0                   4.3         7.9                   98.0              98.0   \n",
       "1                   7.0         5.8                   79.0              79.0   \n",
       "2                   6.4         4.3                    0.0               0.0   \n",
       "3                   7.7         6.5                    0.0               0.0   \n",
       "4                   8.1         6.3                    0.0               0.0   \n",
       "...                 ...         ...                    ...               ...   \n",
       "15467               8.6         7.3                    0.0               0.0   \n",
       "15473               8.8         7.8                    0.0               0.0   \n",
       "15477               8.4         6.8                    0.0               0.0   \n",
       "15478               8.2         6.4                    0.0               0.0   \n",
       "15479               8.1         6.2                    0.0               0.0   \n",
       "\n",
       "       Awards Received  Awards Nominated For Boxoffice  IMDb Votes  Year  \\\n",
       "0                 74.0                  57.0   2122065    205926.0  2021   \n",
       "1                  1.0                   0.0     70632      2838.0  2021   \n",
       "2                  0.0                   0.0     16263      1720.0  2021   \n",
       "3                  1.0                   0.0         0      1147.0  2021   \n",
       "4                  0.0                   4.0         0        63.0  2021   \n",
       "...                ...                   ...       ...         ...   ...   \n",
       "15467              0.0                   0.0         0        14.0  2015   \n",
       "15473              0.0                   0.0         0       174.0  2015   \n",
       "15477              0.0                   0.0         0        71.0  2015   \n",
       "15478              0.0                   0.0         0        82.0  2015   \n",
       "15479              0.0                   0.0         0        17.0  2015   \n",
       "\n",
       "       Action  ...  Urdu  Uzbek  Vietnamese  Wayuu  Welsh  Wolof  Xhosa  \\\n",
       "0           0  ...     0      0           0      0      0      0      0   \n",
       "1           0  ...     0      0           0      0      0      0      0   \n",
       "2           0  ...     0      0           0      0      0      0      0   \n",
       "3           0  ...     0      0           0      0      0      0      0   \n",
       "4           0  ...     0      0           0      0      0      0      0   \n",
       "...       ...  ...   ...    ...         ...    ...    ...    ...    ...   \n",
       "15467       0  ...     0      0           0      0      0      0      0   \n",
       "15473       0  ...     0      0           0      0      0      0      0   \n",
       "15477       0  ...     0      0           0      0      0      0      0   \n",
       "15478       0  ...     0      0           0      0      0      0      0   \n",
       "15479       1  ...     0      0           0      0      0      0      0   \n",
       "\n",
       "       Yiddish  Yoruba  Zulu  \n",
       "0            0       0     0  \n",
       "1            0       0     0  \n",
       "2            0       0     0  \n",
       "3            0       0     0  \n",
       "4            0       0     0  \n",
       "...        ...     ...   ...  \n",
       "15467        0       0     0  \n",
       "15473        0       0     0  \n",
       "15477        0       0     0  \n",
       "15478        0       0     0  \n",
       "15479        0       0     0  \n",
       "\n",
       "[13100 rows x 233 columns]"
      ]
     },
     "execution_count": 27,
     "metadata": {},
     "output_type": "execute_result"
    }
   ],
   "source": [
    "dataset"
   ]
  },
  {
   "cell_type": "markdown",
   "metadata": {},
   "source": [
    "The dataset is ready for training."
   ]
  },
  {
   "cell_type": "markdown",
   "metadata": {},
   "source": [
    "For the next step, we need to prepare training and testing features and target. This is Regression problem and the target will be hidden gem score and the system will predict the hidden score of a movie."
   ]
  },
  {
   "cell_type": "code",
   "execution_count": 28,
   "metadata": {},
   "outputs": [],
   "source": [
    "#prepare features and target\n",
    "X_train = dataset.drop('Hidden Gem Score', axis = 1)\n",
    "y_train = dataset['Hidden Gem Score']"
   ]
  },
  {
   "cell_type": "markdown",
   "metadata": {},
   "source": [
    "70% of dataset will be the train data and the rest 30% will be the test data."
   ]
  },
  {
   "cell_type": "code",
   "execution_count": 29,
   "metadata": {},
   "outputs": [],
   "source": [
    "#split the dataset with 0.3 test size\n",
    "X_train, X_test, y_train, y_test = train_test_split(X_train, y_train, test_size = 0.3)"
   ]
  },
  {
   "cell_type": "code",
   "execution_count": 30,
   "metadata": {},
   "outputs": [
    {
     "name": "stdout",
     "output_type": "stream",
     "text": [
      "(9170, 232)\n",
      "(9170,)\n",
      "(3930, 232)\n",
      "(3930,)\n"
     ]
    }
   ],
   "source": [
    "#dimension of data\n",
    "print(X_train.shape)\n",
    "print(y_train.shape)\n",
    "print(X_test.shape)\n",
    "print(y_test.shape)"
   ]
  },
  {
   "cell_type": "markdown",
   "metadata": {},
   "source": [
    "Train the model with Random Forest Regressor because the data has mixed with both cate"
   ]
  },
  {
   "cell_type": "code",
   "execution_count": 31,
   "metadata": {},
   "outputs": [
    {
     "data": {
      "text/plain": [
       "RandomForestRegressor(random_state=1)"
      ]
     },
     "execution_count": 31,
     "metadata": {},
     "output_type": "execute_result"
    }
   ],
   "source": [
    "#Random Forest Regressor is chosen as training model\n",
    "model = RandomForestRegressor(random_state = 1)\n",
    "model.fit(X_train, y_train)"
   ]
  },
  {
   "cell_type": "markdown",
   "metadata": {},
   "source": [
    "Evaluate the training performance with train data and the testing performance with test data. Mean absolute error (MAE) is used to calculate the error between the ground truth value and predicted value."
   ]
  },
  {
   "cell_type": "code",
   "execution_count": 32,
   "metadata": {},
   "outputs": [
    {
     "name": "stdout",
     "output_type": "stream",
     "text": [
      "[7.822 5.321 8.8   ... 5.038 4.177 2.22 ]\n",
      "Training MAE 0.030852\n"
     ]
    }
   ],
   "source": [
    "train_result = model.predict(X_train)\n",
    "print(train_result)\n",
    "train_mae = mean_absolute_error(y_train,train_result)\n",
    "print('Training MAE %3f' % train_mae)"
   ]
  },
  {
   "cell_type": "code",
   "execution_count": 33,
   "metadata": {},
   "outputs": [
    {
     "name": "stdout",
     "output_type": "stream",
     "text": [
      "[3.026 7.979 3.401 ... 7.797 2.513 2.957]\n",
      "Testing MAE 0.079843\n"
     ]
    }
   ],
   "source": [
    "test_result = model.predict(X_test)\n",
    "print(test_result)\n",
    "test_mae = mean_absolute_error(y_test,test_result)\n",
    "print('Testing MAE %3f' % test_mae)"
   ]
  }
 ],
 "metadata": {
  "kernelspec": {
   "display_name": "Python 3",
   "language": "python",
   "name": "python3"
  },
  "language_info": {
   "codemirror_mode": {
    "name": "ipython",
    "version": 3
   },
   "file_extension": ".py",
   "mimetype": "text/x-python",
   "name": "python",
   "nbconvert_exporter": "python",
   "pygments_lexer": "ipython3",
   "version": "3.8.3"
  }
 },
 "nbformat": 4,
 "nbformat_minor": 4
}
